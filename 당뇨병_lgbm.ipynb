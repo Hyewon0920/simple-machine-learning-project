{
 "cells": [
  {
   "cell_type": "code",
   "execution_count": 15,
   "metadata": {},
   "outputs": [
    {
     "name": "stdout",
     "output_type": "stream",
     "text": [
      "Requirement already satisfied: optuna in c:\\users\\hop09\\desktop\\anaconda\\lib\\site-packages (3.1.0)\n",
      "Requirement already satisfied: colorlog in c:\\users\\hop09\\desktop\\anaconda\\lib\\site-packages (from optuna) (6.7.0)\n",
      "Requirement already satisfied: PyYAML in c:\\users\\hop09\\desktop\\anaconda\\lib\\site-packages (from optuna) (6.0)\n",
      "Requirement already satisfied: alembic>=1.5.0 in c:\\users\\hop09\\desktop\\anaconda\\lib\\site-packages (from optuna) (1.10.2)\n",
      "Requirement already satisfied: packaging>=20.0 in c:\\users\\hop09\\desktop\\anaconda\\lib\\site-packages (from optuna) (21.3)\n",
      "Requirement already satisfied: numpy in c:\\users\\hop09\\desktop\\anaconda\\lib\\site-packages (from optuna) (1.21.5)\n",
      "Requirement already satisfied: cmaes>=0.9.1 in c:\\users\\hop09\\desktop\\anaconda\\lib\\site-packages (from optuna) (0.9.1)\n",
      "Requirement already satisfied: sqlalchemy>=1.3.0 in c:\\users\\hop09\\desktop\\anaconda\\lib\\site-packages (from optuna) (1.4.39)\n",
      "Requirement already satisfied: tqdm in c:\\users\\hop09\\desktop\\anaconda\\lib\\site-packages (from optuna) (4.64.1)\n",
      "Requirement already satisfied: typing-extensions>=4 in c:\\users\\hop09\\desktop\\anaconda\\lib\\site-packages (from alembic>=1.5.0->optuna) (4.3.0)\n",
      "Requirement already satisfied: Mako in c:\\users\\hop09\\desktop\\anaconda\\lib\\site-packages (from alembic>=1.5.0->optuna) (1.2.4)\n",
      "Requirement already satisfied: pyparsing!=3.0.5,>=2.0.2 in c:\\users\\hop09\\desktop\\anaconda\\lib\\site-packages (from packaging>=20.0->optuna) (3.0.9)\n",
      "Requirement already satisfied: greenlet!=0.4.17 in c:\\users\\hop09\\desktop\\anaconda\\lib\\site-packages (from sqlalchemy>=1.3.0->optuna) (1.1.1)\n",
      "Requirement already satisfied: colorama in c:\\users\\hop09\\desktop\\anaconda\\lib\\site-packages (from colorlog->optuna) (0.4.6)\n",
      "Requirement already satisfied: MarkupSafe>=0.9.2 in c:\\users\\hop09\\desktop\\anaconda\\lib\\site-packages (from Mako->alembic>=1.5.0->optuna) (2.0.1)\n",
      "Note: you may need to restart the kernel to use updated packages.\n"
     ]
    }
   ],
   "source": [
    "pip install optuna"
   ]
  },
  {
   "cell_type": "code",
   "execution_count": 16,
   "metadata": {},
   "outputs": [
    {
     "name": "stdout",
     "output_type": "stream",
     "text": [
      "Requirement already satisfied: lightgbm in c:\\users\\hop09\\desktop\\anaconda\\lib\\site-packages (3.3.5)\n",
      "Requirement already satisfied: wheel in c:\\users\\hop09\\desktop\\anaconda\\lib\\site-packages (from lightgbm) (0.37.1)\n",
      "Requirement already satisfied: scipy in c:\\users\\hop09\\desktop\\anaconda\\lib\\site-packages (from lightgbm) (1.9.1)\n",
      "Requirement already satisfied: scikit-learn!=0.22.0 in c:\\users\\hop09\\desktop\\anaconda\\lib\\site-packages (from lightgbm) (1.0.2)\n",
      "Requirement already satisfied: numpy in c:\\users\\hop09\\desktop\\anaconda\\lib\\site-packages (from lightgbm) (1.21.5)\n",
      "Requirement already satisfied: threadpoolctl>=2.0.0 in c:\\users\\hop09\\desktop\\anaconda\\lib\\site-packages (from scikit-learn!=0.22.0->lightgbm) (2.2.0)\n",
      "Requirement already satisfied: joblib>=0.11 in c:\\users\\hop09\\desktop\\anaconda\\lib\\site-packages (from scikit-learn!=0.22.0->lightgbm) (1.1.0)\n",
      "Note: you may need to restart the kernel to use updated packages.\n"
     ]
    }
   ],
   "source": [
    "pip install lightgbm"
   ]
  },
  {
   "cell_type": "code",
   "execution_count": 17,
   "metadata": {},
   "outputs": [
    {
     "name": "stdout",
     "output_type": "stream",
     "text": [
      "Requirement already satisfied: xgboost in c:\\users\\hop09\\desktop\\anaconda\\lib\\site-packages (1.7.4)\n",
      "Requirement already satisfied: scipy in c:\\users\\hop09\\desktop\\anaconda\\lib\\site-packages (from xgboost) (1.9.1)\n",
      "Requirement already satisfied: numpy in c:\\users\\hop09\\desktop\\anaconda\\lib\\site-packages (from xgboost) (1.21.5)\n",
      "Note: you may need to restart the kernel to use updated packages.\n"
     ]
    }
   ],
   "source": [
    "pip install xgboost"
   ]
  },
  {
   "cell_type": "code",
   "execution_count": 18,
   "metadata": {},
   "outputs": [
    {
     "name": "stdout",
     "output_type": "stream",
     "text": [
      "Requirement already satisfied: graphviz in c:\\users\\hop09\\desktop\\anaconda\\lib\\site-packages (0.20.1)\n",
      "Note: you may need to restart the kernel to use updated packages.\n"
     ]
    }
   ],
   "source": [
    "pip install graphviz"
   ]
  },
  {
   "cell_type": "code",
   "execution_count": 1,
   "metadata": {},
   "outputs": [],
   "source": [
    "import pandas as pd\n",
    "import numpy as np\n",
    "import random\n",
    "import os\n",
    "import seaborn as sns\n",
    "\n"
   ]
  },
  {
   "cell_type": "code",
   "execution_count": 2,
   "metadata": {},
   "outputs": [
    {
     "data": {
      "text/html": [
       "<div>\n",
       "<style scoped>\n",
       "    .dataframe tbody tr th:only-of-type {\n",
       "        vertical-align: middle;\n",
       "    }\n",
       "\n",
       "    .dataframe tbody tr th {\n",
       "        vertical-align: top;\n",
       "    }\n",
       "\n",
       "    .dataframe thead th {\n",
       "        text-align: right;\n",
       "    }\n",
       "</style>\n",
       "<table border=\"1\" class=\"dataframe\">\n",
       "  <thead>\n",
       "    <tr style=\"text-align: right;\">\n",
       "      <th></th>\n",
       "      <th>ID</th>\n",
       "      <th>Pregnancies</th>\n",
       "      <th>Glucose</th>\n",
       "      <th>BloodPressure</th>\n",
       "      <th>SkinThickness</th>\n",
       "      <th>Insulin</th>\n",
       "      <th>BMI</th>\n",
       "      <th>DiabetesPedigreeFunction</th>\n",
       "      <th>Age</th>\n",
       "      <th>Outcome</th>\n",
       "    </tr>\n",
       "  </thead>\n",
       "  <tbody>\n",
       "    <tr>\n",
       "      <th>0</th>\n",
       "      <td>TRAIN_000</td>\n",
       "      <td>4</td>\n",
       "      <td>103</td>\n",
       "      <td>60</td>\n",
       "      <td>33</td>\n",
       "      <td>192</td>\n",
       "      <td>24.0</td>\n",
       "      <td>0.966</td>\n",
       "      <td>33</td>\n",
       "      <td>0</td>\n",
       "    </tr>\n",
       "    <tr>\n",
       "      <th>1</th>\n",
       "      <td>TRAIN_001</td>\n",
       "      <td>10</td>\n",
       "      <td>133</td>\n",
       "      <td>68</td>\n",
       "      <td>0</td>\n",
       "      <td>0</td>\n",
       "      <td>27.0</td>\n",
       "      <td>0.245</td>\n",
       "      <td>36</td>\n",
       "      <td>0</td>\n",
       "    </tr>\n",
       "    <tr>\n",
       "      <th>2</th>\n",
       "      <td>TRAIN_002</td>\n",
       "      <td>4</td>\n",
       "      <td>112</td>\n",
       "      <td>78</td>\n",
       "      <td>40</td>\n",
       "      <td>0</td>\n",
       "      <td>39.4</td>\n",
       "      <td>0.236</td>\n",
       "      <td>38</td>\n",
       "      <td>0</td>\n",
       "    </tr>\n",
       "    <tr>\n",
       "      <th>3</th>\n",
       "      <td>TRAIN_003</td>\n",
       "      <td>1</td>\n",
       "      <td>119</td>\n",
       "      <td>88</td>\n",
       "      <td>41</td>\n",
       "      <td>170</td>\n",
       "      <td>45.3</td>\n",
       "      <td>0.507</td>\n",
       "      <td>26</td>\n",
       "      <td>0</td>\n",
       "    </tr>\n",
       "    <tr>\n",
       "      <th>4</th>\n",
       "      <td>TRAIN_004</td>\n",
       "      <td>1</td>\n",
       "      <td>114</td>\n",
       "      <td>66</td>\n",
       "      <td>36</td>\n",
       "      <td>200</td>\n",
       "      <td>38.1</td>\n",
       "      <td>0.289</td>\n",
       "      <td>21</td>\n",
       "      <td>0</td>\n",
       "    </tr>\n",
       "  </tbody>\n",
       "</table>\n",
       "</div>"
      ],
      "text/plain": [
       "          ID  Pregnancies  Glucose  BloodPressure  SkinThickness  Insulin  \\\n",
       "0  TRAIN_000            4      103             60             33      192   \n",
       "1  TRAIN_001           10      133             68              0        0   \n",
       "2  TRAIN_002            4      112             78             40        0   \n",
       "3  TRAIN_003            1      119             88             41      170   \n",
       "4  TRAIN_004            1      114             66             36      200   \n",
       "\n",
       "    BMI  DiabetesPedigreeFunction  Age  Outcome  \n",
       "0  24.0                     0.966   33        0  \n",
       "1  27.0                     0.245   36        0  \n",
       "2  39.4                     0.236   38        0  \n",
       "3  45.3                     0.507   26        0  \n",
       "4  38.1                     0.289   21        0  "
      ]
     },
     "execution_count": 2,
     "metadata": {},
     "output_type": "execute_result"
    }
   ],
   "source": [
    "train = pd.read_csv('C:/Users/hop09/Downloads/open/train.csv')\n",
    "train.head()"
   ]
  },
  {
   "attachments": {},
   "cell_type": "markdown",
   "metadata": {},
   "source": [
    "## 데이터전처리\n",
    "- 혈액농도 mean값\n",
    "- bmi mean값"
   ]
  },
  {
   "cell_type": "code",
   "execution_count": 3,
   "metadata": {},
   "outputs": [
    {
     "data": {
      "text/plain": [
       "0      24.0\n",
       "1      27.0\n",
       "2      39.4\n",
       "3      45.3\n",
       "4      38.1\n",
       "       ... \n",
       "647    29.2\n",
       "648    31.2\n",
       "649    38.3\n",
       "650    30.1\n",
       "651    26.5\n",
       "Name: BMI, Length: 652, dtype: float64"
      ]
     },
     "execution_count": 3,
     "metadata": {},
     "output_type": "execute_result"
    }
   ],
   "source": [
    "#만약 평균값으로 대체하고 싶다면 이거 하기\n",
    "mean_b = train[\"BloodPressure\"].mean()\n",
    "train[\"BloodPressure\"].replace(0, mean_b)\n",
    "\n",
    "mean_bmi = train[\"BMI\"].mean()\n",
    "train[\"BMI\"].replace(0, mean_bmi)"
   ]
  },
  {
   "cell_type": "code",
   "execution_count": 4,
   "metadata": {},
   "outputs": [
    {
     "data": {
      "text/html": [
       "<div>\n",
       "<style scoped>\n",
       "    .dataframe tbody tr th:only-of-type {\n",
       "        vertical-align: middle;\n",
       "    }\n",
       "\n",
       "    .dataframe tbody tr th {\n",
       "        vertical-align: top;\n",
       "    }\n",
       "\n",
       "    .dataframe thead th {\n",
       "        text-align: right;\n",
       "    }\n",
       "</style>\n",
       "<table border=\"1\" class=\"dataframe\">\n",
       "  <thead>\n",
       "    <tr style=\"text-align: right;\">\n",
       "      <th></th>\n",
       "      <th>Glucose</th>\n",
       "      <th>BloodPressure</th>\n",
       "      <th>Insulin</th>\n",
       "      <th>BMI</th>\n",
       "      <th>DiabetesPedigreeFunction</th>\n",
       "      <th>Age</th>\n",
       "      <th>Outcome</th>\n",
       "    </tr>\n",
       "  </thead>\n",
       "  <tbody>\n",
       "    <tr>\n",
       "      <th>0</th>\n",
       "      <td>103</td>\n",
       "      <td>60</td>\n",
       "      <td>192</td>\n",
       "      <td>24.0</td>\n",
       "      <td>0.966</td>\n",
       "      <td>33</td>\n",
       "      <td>0</td>\n",
       "    </tr>\n",
       "    <tr>\n",
       "      <th>1</th>\n",
       "      <td>133</td>\n",
       "      <td>68</td>\n",
       "      <td>0</td>\n",
       "      <td>27.0</td>\n",
       "      <td>0.245</td>\n",
       "      <td>36</td>\n",
       "      <td>0</td>\n",
       "    </tr>\n",
       "    <tr>\n",
       "      <th>2</th>\n",
       "      <td>112</td>\n",
       "      <td>78</td>\n",
       "      <td>0</td>\n",
       "      <td>39.4</td>\n",
       "      <td>0.236</td>\n",
       "      <td>38</td>\n",
       "      <td>0</td>\n",
       "    </tr>\n",
       "    <tr>\n",
       "      <th>3</th>\n",
       "      <td>119</td>\n",
       "      <td>88</td>\n",
       "      <td>170</td>\n",
       "      <td>45.3</td>\n",
       "      <td>0.507</td>\n",
       "      <td>26</td>\n",
       "      <td>0</td>\n",
       "    </tr>\n",
       "    <tr>\n",
       "      <th>4</th>\n",
       "      <td>114</td>\n",
       "      <td>66</td>\n",
       "      <td>200</td>\n",
       "      <td>38.1</td>\n",
       "      <td>0.289</td>\n",
       "      <td>21</td>\n",
       "      <td>0</td>\n",
       "    </tr>\n",
       "  </tbody>\n",
       "</table>\n",
       "</div>"
      ],
      "text/plain": [
       "   Glucose  BloodPressure  Insulin   BMI  DiabetesPedigreeFunction  Age  \\\n",
       "0      103             60      192  24.0                     0.966   33   \n",
       "1      133             68        0  27.0                     0.245   36   \n",
       "2      112             78        0  39.4                     0.236   38   \n",
       "3      119             88      170  45.3                     0.507   26   \n",
       "4      114             66      200  38.1                     0.289   21   \n",
       "\n",
       "   Outcome  \n",
       "0        0  \n",
       "1        0  \n",
       "2        0  \n",
       "3        0  \n",
       "4        0  "
      ]
     },
     "execution_count": 4,
     "metadata": {},
     "output_type": "execute_result"
    }
   ],
   "source": [
    "# # ID, 임신횟수, 피부두께 버려\n",
    "train.drop(axis = 1, columns= [\"ID\", \"Pregnancies\", \"SkinThickness\"], inplace = True)\n",
    "train.head()"
   ]
  },
  {
   "cell_type": "code",
   "execution_count": 5,
   "metadata": {},
   "outputs": [],
   "source": [
    "# 인슐린 107로 대체\n",
    "train[\"Insulin\"].replace(0,107, inplace = True)"
   ]
  },
  {
   "cell_type": "code",
   "execution_count": 6,
   "metadata": {},
   "outputs": [
    {
     "data": {
      "text/html": [
       "<div>\n",
       "<style scoped>\n",
       "    .dataframe tbody tr th:only-of-type {\n",
       "        vertical-align: middle;\n",
       "    }\n",
       "\n",
       "    .dataframe tbody tr th {\n",
       "        vertical-align: top;\n",
       "    }\n",
       "\n",
       "    .dataframe thead th {\n",
       "        text-align: right;\n",
       "    }\n",
       "</style>\n",
       "<table border=\"1\" class=\"dataframe\">\n",
       "  <thead>\n",
       "    <tr style=\"text-align: right;\">\n",
       "      <th></th>\n",
       "      <th>Glucose</th>\n",
       "      <th>BloodPressure</th>\n",
       "      <th>Insulin</th>\n",
       "      <th>BMI</th>\n",
       "      <th>DiabetesPedigreeFunction</th>\n",
       "      <th>Age</th>\n",
       "      <th>target</th>\n",
       "    </tr>\n",
       "  </thead>\n",
       "  <tbody>\n",
       "    <tr>\n",
       "      <th>0</th>\n",
       "      <td>-0.5614</td>\n",
       "      <td>-0.4641</td>\n",
       "      <td>0.6484</td>\n",
       "      <td>-1.0660</td>\n",
       "      <td>1.5213</td>\n",
       "      <td>-0.0432</td>\n",
       "      <td>0</td>\n",
       "    </tr>\n",
       "    <tr>\n",
       "      <th>1</th>\n",
       "      <td>0.3771</td>\n",
       "      <td>-0.0467</td>\n",
       "      <td>-0.2868</td>\n",
       "      <td>-0.6636</td>\n",
       "      <td>-0.6686</td>\n",
       "      <td>0.2107</td>\n",
       "      <td>0</td>\n",
       "    </tr>\n",
       "    <tr>\n",
       "      <th>2</th>\n",
       "      <td>-0.2799</td>\n",
       "      <td>0.4749</td>\n",
       "      <td>-0.2868</td>\n",
       "      <td>0.9996</td>\n",
       "      <td>-0.6959</td>\n",
       "      <td>0.3799</td>\n",
       "      <td>0</td>\n",
       "    </tr>\n",
       "    <tr>\n",
       "      <th>3</th>\n",
       "      <td>-0.0609</td>\n",
       "      <td>0.9966</td>\n",
       "      <td>0.4063</td>\n",
       "      <td>1.7910</td>\n",
       "      <td>0.1272</td>\n",
       "      <td>-0.6357</td>\n",
       "      <td>0</td>\n",
       "    </tr>\n",
       "    <tr>\n",
       "      <th>4</th>\n",
       "      <td>-0.2173</td>\n",
       "      <td>-0.1511</td>\n",
       "      <td>0.7364</td>\n",
       "      <td>0.8253</td>\n",
       "      <td>-0.5350</td>\n",
       "      <td>-1.0588</td>\n",
       "      <td>0</td>\n",
       "    </tr>\n",
       "  </tbody>\n",
       "</table>\n",
       "</div>"
      ],
      "text/plain": [
       "   Glucose  BloodPressure  Insulin     BMI  DiabetesPedigreeFunction     Age  \\\n",
       "0  -0.5614        -0.4641   0.6484 -1.0660                    1.5213 -0.0432   \n",
       "1   0.3771        -0.0467  -0.2868 -0.6636                   -0.6686  0.2107   \n",
       "2  -0.2799         0.4749  -0.2868  0.9996                   -0.6959  0.3799   \n",
       "3  -0.0609         0.9966   0.4063  1.7910                    0.1272 -0.6357   \n",
       "4  -0.2173        -0.1511   0.7364  0.8253                   -0.5350 -1.0588   \n",
       "\n",
       "   target  \n",
       "0       0  \n",
       "1       0  \n",
       "2       0  \n",
       "3       0  \n",
       "4       0  "
      ]
     },
     "execution_count": 6,
     "metadata": {},
     "output_type": "execute_result"
    }
   ],
   "source": [
    "from sklearn.preprocessing import StandardScaler\n",
    "\n",
    "scaler = StandardScaler()\n",
    "train_scaled = scaler.fit_transform(train.iloc[:,:-1]).round(4)\n",
    "\n",
    "train_scaled_df = pd.DataFrame(train_scaled, columns=train.columns[:-1])\n",
    "train_scaled_df['target'] = train['Outcome']\n",
    "train_scaled_df.head()\n"
   ]
  },
  {
   "attachments": {},
   "cell_type": "markdown",
   "metadata": {},
   "source": [
    "### K fold 쓰기"
   ]
  },
  {
   "cell_type": "code",
   "execution_count": 7,
   "metadata": {},
   "outputs": [],
   "source": [
    "from sklearn.model_selection import train_test_split, StratifiedKFold\n",
    "\n",
    "x = np.array(train.values[:,-1:])\n",
    "y = train.values[:,:-1]\n",
    "\n",
    "# split 개수, 셔플 여부 및 seed 설정\n",
    "stf = StratifiedKFold(n_splits = 5, shuffle = True, random_state= 0) "
   ]
  },
  {
   "cell_type": "code",
   "execution_count": 8,
   "metadata": {},
   "outputs": [
    {
     "name": "stdout",
     "output_type": "stream",
     "text": [
      "torch.Size([652, 6]) torch.Size([652, 1])\n"
     ]
    }
   ],
   "source": [
    "import torch\n",
    "data = torch.from_numpy(train_scaled_df.values).float()\n",
    "\n",
    "x = data[:,:-1]\n",
    "y = data[:, -1:]\n",
    "\n",
    "print(x.shape, y.shape)"
   ]
  },
  {
   "cell_type": "code",
   "execution_count": 14,
   "metadata": {},
   "outputs": [],
   "source": [
    "# n_epochs = 20000\n",
    "# learning_rate = 1e-2\n",
    "# print_interval = 1000"
   ]
  },
  {
   "attachments": {},
   "cell_type": "markdown",
   "metadata": {},
   "source": [
    "# Optuna - lgbm"
   ]
  },
  {
   "cell_type": "code",
   "execution_count": 31,
   "metadata": {},
   "outputs": [],
   "source": [
    "from sklearn.metrics import accuracy_score\n",
    "import optuna\n",
    "import lightgbm as lgbm\n",
    "from optuna import Trial\n",
    "from optuna.samplers import TPESampler\n",
    "from sklearn.metrics import log_loss\n",
    "from sklearn.model_selection import train_test_split\n",
    "\n",
    "\n",
    "def objective(trial):\n",
    "    params_lgbm = {\n",
    "        'random_state' : 0,\n",
    "        'early_stopping_round' : 50,\n",
    "        'n_estimators' : trial.suggest_int('n_estimators', 50, 200),\n",
    "        'max_depth': trial.suggest_int('max_depth', 5, 15),\n",
    "        'num_leaves': trial.suggest_categorical('max_leaves', [2**i for i in range(4, 10)]),\n",
    "        'subsample': trial.suggest_uniform('subsample', 0.0, 1.0),\n",
    "        'colsample_bytree': trial.suggest_uniform('colsample_bytree', 0.0, 1.0),\n",
    "        'reg_alpha': trial.suggest_loguniform('reg_alpha', 1e-8, 10.0),\n",
    "        'reg_lambda': trial.suggest_loguniform('reg_lambda', 1e-8, 10.0) \n",
    "        }\n",
    "\n",
    "    for train_index, test_index in kfold.split(x): # for문으로 index순회하면서 train, test셋 뽑기\n",
    "\n",
    "        X_train, X_test = x[train_index], x[test_index]\n",
    "        y_train, y_test = y[train_index], y[test_index]\n",
    "            \n",
    "\n",
    "        model = XGBClassifier(**params_xgb)\n",
    "        model.fit(\n",
    "            X_train, \n",
    "            y_train, \n",
    "            eval_set = [(X_train,y_train ), (X_test,y_test )],\n",
    "            verbose=False,\n",
    "        \n",
    "        )\n",
    "        xgb_pred = model.predict_proba(X_test)\n",
    "        log_score = log_loss(y_test, xgb_pred)\n",
    "        \n",
    "    return log_score"
   ]
  },
  {
   "cell_type": "code",
   "execution_count": 32,
   "metadata": {},
   "outputs": [
    {
     "name": "stderr",
     "output_type": "stream",
     "text": [
      "\u001b[32m[I 2023-03-28 00:56:46,745]\u001b[0m A new study created in memory with name: xgb_parameter_opt\u001b[0m\n",
      "C:\\Users\\hop09\\AppData\\Local\\Temp\\ipykernel_16060\\2527784243.py:18: FutureWarning: suggest_loguniform has been deprecated in v3.0.0. This feature will be removed in v6.0.0. See https://github.com/optuna/optuna/releases/tag/v3.0.0. Use :func:`~optuna.trial.Trial.suggest_float` instead.\n",
      "  'reg_alpha': trial.suggest_loguniform('reg_alpha', 1e-8, 10.0),\n",
      "C:\\Users\\hop09\\AppData\\Local\\Temp\\ipykernel_16060\\2527784243.py:19: FutureWarning: suggest_loguniform has been deprecated in v3.0.0. This feature will be removed in v6.0.0. See https://github.com/optuna/optuna/releases/tag/v3.0.0. Use :func:`~optuna.trial.Trial.suggest_float` instead.\n",
      "  'reg_lambda': trial.suggest_loguniform('reg_lambda', 1e-8, 10.0),\n",
      "C:\\Users\\hop09\\AppData\\Local\\Temp\\ipykernel_16060\\2527784243.py:20: FutureWarning: suggest_uniform has been deprecated in v3.0.0. This feature will be removed in v6.0.0. See https://github.com/optuna/optuna/releases/tag/v3.0.0. Use :func:`~optuna.trial.Trial.suggest_float` instead.\n",
      "  'colsample_bytree': trial.suggest_uniform('colsample_bytree', 0.0, 1.0),\n",
      "C:\\Users\\hop09\\AppData\\Local\\Temp\\ipykernel_16060\\2527784243.py:21: FutureWarning: suggest_uniform has been deprecated in v3.0.0. This feature will be removed in v6.0.0. See https://github.com/optuna/optuna/releases/tag/v3.0.0. Use :func:`~optuna.trial.Trial.suggest_float` instead.\n",
      "  'subsample': trial.suggest_uniform('subsample', 0.0, 1.0),\n",
      "C:\\Users\\hop09\\AppData\\Local\\Temp\\ipykernel_16060\\2527784243.py:22: FutureWarning: suggest_uniform has been deprecated in v3.0.0. This feature will be removed in v6.0.0. See https://github.com/optuna/optuna/releases/tag/v3.0.0. Use :func:`~optuna.trial.Trial.suggest_float` instead.\n",
      "  'learning_rate':trial.suggest_uniform('learning_rate', 0.01, 0.5)\n",
      "\u001b[32m[I 2023-03-28 00:56:47,649]\u001b[0m Trial 0 finished with value: 0.6931471824645996 and parameters: {'n_estimators': 106, 'max_depth': 15, 'max_leaves': 512, 'min_child_weight': 181, 'reg_alpha': 0.023585940584142682, 'reg_lambda': 1.5320059381854043e-08, 'colsample_bytree': 0.9699098521619943, 'subsample': 0.8324426408004217, 'learning_rate': 0.11404616423235531}. Best is trial 0 with value: 0.6931471824645996.\u001b[0m\n",
      "C:\\Users\\hop09\\AppData\\Local\\Temp\\ipykernel_16060\\2527784243.py:18: FutureWarning: suggest_loguniform has been deprecated in v3.0.0. This feature will be removed in v6.0.0. See https://github.com/optuna/optuna/releases/tag/v3.0.0. Use :func:`~optuna.trial.Trial.suggest_float` instead.\n",
      "  'reg_alpha': trial.suggest_loguniform('reg_alpha', 1e-8, 10.0),\n",
      "C:\\Users\\hop09\\AppData\\Local\\Temp\\ipykernel_16060\\2527784243.py:19: FutureWarning: suggest_loguniform has been deprecated in v3.0.0. This feature will be removed in v6.0.0. See https://github.com/optuna/optuna/releases/tag/v3.0.0. Use :func:`~optuna.trial.Trial.suggest_float` instead.\n",
      "  'reg_lambda': trial.suggest_loguniform('reg_lambda', 1e-8, 10.0),\n",
      "C:\\Users\\hop09\\AppData\\Local\\Temp\\ipykernel_16060\\2527784243.py:20: FutureWarning: suggest_uniform has been deprecated in v3.0.0. This feature will be removed in v6.0.0. See https://github.com/optuna/optuna/releases/tag/v3.0.0. Use :func:`~optuna.trial.Trial.suggest_float` instead.\n",
      "  'colsample_bytree': trial.suggest_uniform('colsample_bytree', 0.0, 1.0),\n",
      "C:\\Users\\hop09\\AppData\\Local\\Temp\\ipykernel_16060\\2527784243.py:21: FutureWarning: suggest_uniform has been deprecated in v3.0.0. This feature will be removed in v6.0.0. See https://github.com/optuna/optuna/releases/tag/v3.0.0. Use :func:`~optuna.trial.Trial.suggest_float` instead.\n",
      "  'subsample': trial.suggest_uniform('subsample', 0.0, 1.0),\n",
      "C:\\Users\\hop09\\AppData\\Local\\Temp\\ipykernel_16060\\2527784243.py:22: FutureWarning: suggest_uniform has been deprecated in v3.0.0. This feature will be removed in v6.0.0. See https://github.com/optuna/optuna/releases/tag/v3.0.0. Use :func:`~optuna.trial.Trial.suggest_float` instead.\n",
      "  'learning_rate':trial.suggest_uniform('learning_rate', 0.01, 0.5)\n",
      "\u001b[32m[I 2023-03-28 00:56:48,385]\u001b[0m Trial 1 finished with value: 0.6931471824645996 and parameters: {'n_estimators': 77, 'max_depth': 7, 'max_leaves': 256, 'min_child_weight': 88, 'reg_alpha': 1.9826980964985924e-05, 'reg_lambda': 0.00012724181576752517, 'colsample_bytree': 0.7851759613930136, 'subsample': 0.19967378215835974, 'learning_rate': 0.2619748748226697}. Best is trial 0 with value: 0.6931471824645996.\u001b[0m\n",
      "C:\\Users\\hop09\\AppData\\Local\\Temp\\ipykernel_16060\\2527784243.py:18: FutureWarning: suggest_loguniform has been deprecated in v3.0.0. This feature will be removed in v6.0.0. See https://github.com/optuna/optuna/releases/tag/v3.0.0. Use :func:`~optuna.trial.Trial.suggest_float` instead.\n",
      "  'reg_alpha': trial.suggest_loguniform('reg_alpha', 1e-8, 10.0),\n",
      "C:\\Users\\hop09\\AppData\\Local\\Temp\\ipykernel_16060\\2527784243.py:19: FutureWarning: suggest_loguniform has been deprecated in v3.0.0. This feature will be removed in v6.0.0. See https://github.com/optuna/optuna/releases/tag/v3.0.0. Use :func:`~optuna.trial.Trial.suggest_float` instead.\n",
      "  'reg_lambda': trial.suggest_loguniform('reg_lambda', 1e-8, 10.0),\n",
      "C:\\Users\\hop09\\AppData\\Local\\Temp\\ipykernel_16060\\2527784243.py:20: FutureWarning: suggest_uniform has been deprecated in v3.0.0. This feature will be removed in v6.0.0. See https://github.com/optuna/optuna/releases/tag/v3.0.0. Use :func:`~optuna.trial.Trial.suggest_float` instead.\n",
      "  'colsample_bytree': trial.suggest_uniform('colsample_bytree', 0.0, 1.0),\n",
      "C:\\Users\\hop09\\AppData\\Local\\Temp\\ipykernel_16060\\2527784243.py:21: FutureWarning: suggest_uniform has been deprecated in v3.0.0. This feature will be removed in v6.0.0. See https://github.com/optuna/optuna/releases/tag/v3.0.0. Use :func:`~optuna.trial.Trial.suggest_float` instead.\n",
      "  'subsample': trial.suggest_uniform('subsample', 0.0, 1.0),\n",
      "C:\\Users\\hop09\\AppData\\Local\\Temp\\ipykernel_16060\\2527784243.py:22: FutureWarning: suggest_uniform has been deprecated in v3.0.0. This feature will be removed in v6.0.0. See https://github.com/optuna/optuna/releases/tag/v3.0.0. Use :func:`~optuna.trial.Trial.suggest_float` instead.\n",
      "  'learning_rate':trial.suggest_uniform('learning_rate', 0.01, 0.5)\n",
      "\u001b[32m[I 2023-03-28 00:56:49,144]\u001b[0m Trial 2 finished with value: 0.6931471824645996 and parameters: {'n_estimators': 139, 'max_depth': 5, 'max_leaves': 256, 'min_child_weight': 92, 'reg_alpha': 7.569183361880229e-08, 'reg_lambda': 0.014391207615728067, 'colsample_bytree': 0.4401524937396013, 'subsample': 0.12203823484477883, 'learning_rate': 0.2526366859545224}. Best is trial 0 with value: 0.6931471824645996.\u001b[0m\n",
      "C:\\Users\\hop09\\AppData\\Local\\Temp\\ipykernel_16060\\2527784243.py:18: FutureWarning: suggest_loguniform has been deprecated in v3.0.0. This feature will be removed in v6.0.0. See https://github.com/optuna/optuna/releases/tag/v3.0.0. Use :func:`~optuna.trial.Trial.suggest_float` instead.\n",
      "  'reg_alpha': trial.suggest_loguniform('reg_alpha', 1e-8, 10.0),\n",
      "C:\\Users\\hop09\\AppData\\Local\\Temp\\ipykernel_16060\\2527784243.py:19: FutureWarning: suggest_loguniform has been deprecated in v3.0.0. This feature will be removed in v6.0.0. See https://github.com/optuna/optuna/releases/tag/v3.0.0. Use :func:`~optuna.trial.Trial.suggest_float` instead.\n",
      "  'reg_lambda': trial.suggest_loguniform('reg_lambda', 1e-8, 10.0),\n",
      "C:\\Users\\hop09\\AppData\\Local\\Temp\\ipykernel_16060\\2527784243.py:20: FutureWarning: suggest_uniform has been deprecated in v3.0.0. This feature will be removed in v6.0.0. See https://github.com/optuna/optuna/releases/tag/v3.0.0. Use :func:`~optuna.trial.Trial.suggest_float` instead.\n",
      "  'colsample_bytree': trial.suggest_uniform('colsample_bytree', 0.0, 1.0),\n",
      "C:\\Users\\hop09\\AppData\\Local\\Temp\\ipykernel_16060\\2527784243.py:21: FutureWarning: suggest_uniform has been deprecated in v3.0.0. This feature will be removed in v6.0.0. See https://github.com/optuna/optuna/releases/tag/v3.0.0. Use :func:`~optuna.trial.Trial.suggest_float` instead.\n",
      "  'subsample': trial.suggest_uniform('subsample', 0.0, 1.0),\n",
      "C:\\Users\\hop09\\AppData\\Local\\Temp\\ipykernel_16060\\2527784243.py:22: FutureWarning: suggest_uniform has been deprecated in v3.0.0. This feature will be removed in v6.0.0. See https://github.com/optuna/optuna/releases/tag/v3.0.0. Use :func:`~optuna.trial.Trial.suggest_float` instead.\n",
      "  'learning_rate':trial.suggest_uniform('learning_rate', 0.01, 0.5)\n",
      "\u001b[32m[I 2023-03-28 00:56:49,849]\u001b[0m Trial 3 finished with value: 0.6931471824645996 and parameters: {'n_estimators': 55, 'max_depth': 15, 'max_leaves': 32, 'min_child_weight': 291, 'reg_alpha': 0.09466630153726856, 'reg_lambda': 2.854239907497756, 'colsample_bytree': 0.8948273504276488, 'subsample': 0.5978999788110851, 'learning_rate': 0.46171837516132724}. Best is trial 0 with value: 0.6931471824645996.\u001b[0m\n",
      "C:\\Users\\hop09\\AppData\\Local\\Temp\\ipykernel_16060\\2527784243.py:18: FutureWarning: suggest_loguniform has been deprecated in v3.0.0. This feature will be removed in v6.0.0. See https://github.com/optuna/optuna/releases/tag/v3.0.0. Use :func:`~optuna.trial.Trial.suggest_float` instead.\n",
      "  'reg_alpha': trial.suggest_loguniform('reg_alpha', 1e-8, 10.0),\n",
      "C:\\Users\\hop09\\AppData\\Local\\Temp\\ipykernel_16060\\2527784243.py:19: FutureWarning: suggest_loguniform has been deprecated in v3.0.0. This feature will be removed in v6.0.0. See https://github.com/optuna/optuna/releases/tag/v3.0.0. Use :func:`~optuna.trial.Trial.suggest_float` instead.\n",
      "  'reg_lambda': trial.suggest_loguniform('reg_lambda', 1e-8, 10.0),\n",
      "C:\\Users\\hop09\\AppData\\Local\\Temp\\ipykernel_16060\\2527784243.py:20: FutureWarning: suggest_uniform has been deprecated in v3.0.0. This feature will be removed in v6.0.0. See https://github.com/optuna/optuna/releases/tag/v3.0.0. Use :func:`~optuna.trial.Trial.suggest_float` instead.\n",
      "  'colsample_bytree': trial.suggest_uniform('colsample_bytree', 0.0, 1.0),\n",
      "C:\\Users\\hop09\\AppData\\Local\\Temp\\ipykernel_16060\\2527784243.py:21: FutureWarning: suggest_uniform has been deprecated in v3.0.0. This feature will be removed in v6.0.0. See https://github.com/optuna/optuna/releases/tag/v3.0.0. Use :func:`~optuna.trial.Trial.suggest_float` instead.\n",
      "  'subsample': trial.suggest_uniform('subsample', 0.0, 1.0),\n",
      "C:\\Users\\hop09\\AppData\\Local\\Temp\\ipykernel_16060\\2527784243.py:22: FutureWarning: suggest_uniform has been deprecated in v3.0.0. This feature will be removed in v6.0.0. See https://github.com/optuna/optuna/releases/tag/v3.0.0. Use :func:`~optuna.trial.Trial.suggest_float` instead.\n",
      "  'learning_rate':trial.suggest_uniform('learning_rate', 0.01, 0.5)\n",
      "\u001b[32m[I 2023-03-28 00:56:50,512]\u001b[0m Trial 4 finished with value: 0.6931471824645996 and parameters: {'n_estimators': 63, 'max_depth': 7, 'max_leaves': 256, 'min_child_weight': 85, 'reg_alpha': 0.0007660634613082914, 'reg_lambda': 1.8548894229694903e-07, 'colsample_bytree': 0.8021969807540397, 'subsample': 0.07455064367977082, 'learning_rate': 0.4935745989342535}. Best is trial 0 with value: 0.6931471824645996.\u001b[0m\n",
      "C:\\Users\\hop09\\AppData\\Local\\Temp\\ipykernel_16060\\2527784243.py:18: FutureWarning: suggest_loguniform has been deprecated in v3.0.0. This feature will be removed in v6.0.0. See https://github.com/optuna/optuna/releases/tag/v3.0.0. Use :func:`~optuna.trial.Trial.suggest_float` instead.\n",
      "  'reg_alpha': trial.suggest_loguniform('reg_alpha', 1e-8, 10.0),\n",
      "C:\\Users\\hop09\\AppData\\Local\\Temp\\ipykernel_16060\\2527784243.py:19: FutureWarning: suggest_loguniform has been deprecated in v3.0.0. This feature will be removed in v6.0.0. See https://github.com/optuna/optuna/releases/tag/v3.0.0. Use :func:`~optuna.trial.Trial.suggest_float` instead.\n",
      "  'reg_lambda': trial.suggest_loguniform('reg_lambda', 1e-8, 10.0),\n",
      "C:\\Users\\hop09\\AppData\\Local\\Temp\\ipykernel_16060\\2527784243.py:20: FutureWarning: suggest_uniform has been deprecated in v3.0.0. This feature will be removed in v6.0.0. See https://github.com/optuna/optuna/releases/tag/v3.0.0. Use :func:`~optuna.trial.Trial.suggest_float` instead.\n",
      "  'colsample_bytree': trial.suggest_uniform('colsample_bytree', 0.0, 1.0),\n",
      "C:\\Users\\hop09\\AppData\\Local\\Temp\\ipykernel_16060\\2527784243.py:21: FutureWarning: suggest_uniform has been deprecated in v3.0.0. This feature will be removed in v6.0.0. See https://github.com/optuna/optuna/releases/tag/v3.0.0. Use :func:`~optuna.trial.Trial.suggest_float` instead.\n",
      "  'subsample': trial.suggest_uniform('subsample', 0.0, 1.0),\n",
      "C:\\Users\\hop09\\AppData\\Local\\Temp\\ipykernel_16060\\2527784243.py:22: FutureWarning: suggest_uniform has been deprecated in v3.0.0. This feature will be removed in v6.0.0. See https://github.com/optuna/optuna/releases/tag/v3.0.0. Use :func:`~optuna.trial.Trial.suggest_float` instead.\n",
      "  'learning_rate':trial.suggest_uniform('learning_rate', 0.01, 0.5)\n",
      "\u001b[32m[I 2023-03-28 00:56:51,157]\u001b[0m Trial 5 finished with value: 0.6931471824645996 and parameters: {'n_estimators': 166, 'max_depth': 7, 'max_leaves': 32, 'min_child_weight': 108, 'reg_alpha': 1.1036250149900698e-07, 'reg_lambda': 0.5860448217200517, 'colsample_bytree': 0.6232981268275579, 'subsample': 0.3308980248526492, 'learning_rate': 0.04114359164015158}. Best is trial 0 with value: 0.6931471824645996.\u001b[0m\n",
      "C:\\Users\\hop09\\AppData\\Local\\Temp\\ipykernel_16060\\2527784243.py:18: FutureWarning: suggest_loguniform has been deprecated in v3.0.0. This feature will be removed in v6.0.0. See https://github.com/optuna/optuna/releases/tag/v3.0.0. Use :func:`~optuna.trial.Trial.suggest_float` instead.\n",
      "  'reg_alpha': trial.suggest_loguniform('reg_alpha', 1e-8, 10.0),\n",
      "C:\\Users\\hop09\\AppData\\Local\\Temp\\ipykernel_16060\\2527784243.py:19: FutureWarning: suggest_loguniform has been deprecated in v3.0.0. This feature will be removed in v6.0.0. See https://github.com/optuna/optuna/releases/tag/v3.0.0. Use :func:`~optuna.trial.Trial.suggest_float` instead.\n",
      "  'reg_lambda': trial.suggest_loguniform('reg_lambda', 1e-8, 10.0),\n",
      "C:\\Users\\hop09\\AppData\\Local\\Temp\\ipykernel_16060\\2527784243.py:20: FutureWarning: suggest_uniform has been deprecated in v3.0.0. This feature will be removed in v6.0.0. See https://github.com/optuna/optuna/releases/tag/v3.0.0. Use :func:`~optuna.trial.Trial.suggest_float` instead.\n",
      "  'colsample_bytree': trial.suggest_uniform('colsample_bytree', 0.0, 1.0),\n",
      "C:\\Users\\hop09\\AppData\\Local\\Temp\\ipykernel_16060\\2527784243.py:21: FutureWarning: suggest_uniform has been deprecated in v3.0.0. This feature will be removed in v6.0.0. See https://github.com/optuna/optuna/releases/tag/v3.0.0. Use :func:`~optuna.trial.Trial.suggest_float` instead.\n",
      "  'subsample': trial.suggest_uniform('subsample', 0.0, 1.0),\n",
      "C:\\Users\\hop09\\AppData\\Local\\Temp\\ipykernel_16060\\2527784243.py:22: FutureWarning: suggest_uniform has been deprecated in v3.0.0. This feature will be removed in v6.0.0. See https://github.com/optuna/optuna/releases/tag/v3.0.0. Use :func:`~optuna.trial.Trial.suggest_float` instead.\n",
      "  'learning_rate':trial.suggest_uniform('learning_rate', 0.01, 0.5)\n",
      "\u001b[32m[I 2023-03-28 00:56:51,809]\u001b[0m Trial 6 finished with value: 0.6931471824645996 and parameters: {'n_estimators': 96, 'max_depth': 8, 'max_leaves': 64, 'min_child_weight': 229, 'reg_alpha': 0.0011258869313624915, 'reg_lambda': 0.08683696167603723, 'colsample_bytree': 0.49379559636439074, 'subsample': 0.5227328293819941, 'learning_rate': 0.21949509899568934}. Best is trial 0 with value: 0.6931471824645996.\u001b[0m\n",
      "C:\\Users\\hop09\\AppData\\Local\\Temp\\ipykernel_16060\\2527784243.py:18: FutureWarning: suggest_loguniform has been deprecated in v3.0.0. This feature will be removed in v6.0.0. See https://github.com/optuna/optuna/releases/tag/v3.0.0. Use :func:`~optuna.trial.Trial.suggest_float` instead.\n",
      "  'reg_alpha': trial.suggest_loguniform('reg_alpha', 1e-8, 10.0),\n",
      "C:\\Users\\hop09\\AppData\\Local\\Temp\\ipykernel_16060\\2527784243.py:19: FutureWarning: suggest_loguniform has been deprecated in v3.0.0. This feature will be removed in v6.0.0. See https://github.com/optuna/optuna/releases/tag/v3.0.0. Use :func:`~optuna.trial.Trial.suggest_float` instead.\n",
      "  'reg_lambda': trial.suggest_loguniform('reg_lambda', 1e-8, 10.0),\n",
      "C:\\Users\\hop09\\AppData\\Local\\Temp\\ipykernel_16060\\2527784243.py:20: FutureWarning: suggest_uniform has been deprecated in v3.0.0. This feature will be removed in v6.0.0. See https://github.com/optuna/optuna/releases/tag/v3.0.0. Use :func:`~optuna.trial.Trial.suggest_float` instead.\n",
      "  'colsample_bytree': trial.suggest_uniform('colsample_bytree', 0.0, 1.0),\n",
      "C:\\Users\\hop09\\AppData\\Local\\Temp\\ipykernel_16060\\2527784243.py:21: FutureWarning: suggest_uniform has been deprecated in v3.0.0. This feature will be removed in v6.0.0. See https://github.com/optuna/optuna/releases/tag/v3.0.0. Use :func:`~optuna.trial.Trial.suggest_float` instead.\n",
      "  'subsample': trial.suggest_uniform('subsample', 0.0, 1.0),\n",
      "C:\\Users\\hop09\\AppData\\Local\\Temp\\ipykernel_16060\\2527784243.py:22: FutureWarning: suggest_uniform has been deprecated in v3.0.0. This feature will be removed in v6.0.0. See https://github.com/optuna/optuna/releases/tag/v3.0.0. Use :func:`~optuna.trial.Trial.suggest_float` instead.\n",
      "  'learning_rate':trial.suggest_uniform('learning_rate', 0.01, 0.5)\n",
      "\u001b[32m[I 2023-03-28 00:56:52,468]\u001b[0m Trial 7 finished with value: 0.6931471824645996 and parameters: {'n_estimators': 53, 'max_depth': 6, 'max_leaves': 256, 'min_child_weight': 124, 'reg_alpha': 0.06308995924905789, 'reg_lambda': 1.1459970229341322e-06, 'colsample_bytree': 0.07697990982879299, 'subsample': 0.289751452913768, 'learning_rate': 0.08899843075446216}. Best is trial 0 with value: 0.6931471824645996.\u001b[0m\n",
      "C:\\Users\\hop09\\AppData\\Local\\Temp\\ipykernel_16060\\2527784243.py:18: FutureWarning: suggest_loguniform has been deprecated in v3.0.0. This feature will be removed in v6.0.0. See https://github.com/optuna/optuna/releases/tag/v3.0.0. Use :func:`~optuna.trial.Trial.suggest_float` instead.\n",
      "  'reg_alpha': trial.suggest_loguniform('reg_alpha', 1e-8, 10.0),\n",
      "C:\\Users\\hop09\\AppData\\Local\\Temp\\ipykernel_16060\\2527784243.py:19: FutureWarning: suggest_loguniform has been deprecated in v3.0.0. This feature will be removed in v6.0.0. See https://github.com/optuna/optuna/releases/tag/v3.0.0. Use :func:`~optuna.trial.Trial.suggest_float` instead.\n",
      "  'reg_lambda': trial.suggest_loguniform('reg_lambda', 1e-8, 10.0),\n",
      "C:\\Users\\hop09\\AppData\\Local\\Temp\\ipykernel_16060\\2527784243.py:20: FutureWarning: suggest_uniform has been deprecated in v3.0.0. This feature will be removed in v6.0.0. See https://github.com/optuna/optuna/releases/tag/v3.0.0. Use :func:`~optuna.trial.Trial.suggest_float` instead.\n",
      "  'colsample_bytree': trial.suggest_uniform('colsample_bytree', 0.0, 1.0),\n",
      "C:\\Users\\hop09\\AppData\\Local\\Temp\\ipykernel_16060\\2527784243.py:21: FutureWarning: suggest_uniform has been deprecated in v3.0.0. This feature will be removed in v6.0.0. See https://github.com/optuna/optuna/releases/tag/v3.0.0. Use :func:`~optuna.trial.Trial.suggest_float` instead.\n",
      "  'subsample': trial.suggest_uniform('subsample', 0.0, 1.0),\n",
      "C:\\Users\\hop09\\AppData\\Local\\Temp\\ipykernel_16060\\2527784243.py:22: FutureWarning: suggest_uniform has been deprecated in v3.0.0. This feature will be removed in v6.0.0. See https://github.com/optuna/optuna/releases/tag/v3.0.0. Use :func:`~optuna.trial.Trial.suggest_float` instead.\n",
      "  'learning_rate':trial.suggest_uniform('learning_rate', 0.01, 0.5)\n",
      "\u001b[32m[I 2023-03-28 00:56:53,126]\u001b[0m Trial 8 finished with value: 0.6931471824645996 and parameters: {'n_estimators': 190, 'max_depth': 13, 'max_leaves': 256, 'min_child_weight': 243, 'reg_alpha': 1.16097187606918, 'reg_lambda': 7.278322158604965e-06, 'colsample_bytree': 0.11005192452767676, 'subsample': 0.22793516254194168, 'learning_rate': 0.2192828164268656}. Best is trial 0 with value: 0.6931471824645996.\u001b[0m\n",
      "C:\\Users\\hop09\\AppData\\Local\\Temp\\ipykernel_16060\\2527784243.py:18: FutureWarning: suggest_loguniform has been deprecated in v3.0.0. This feature will be removed in v6.0.0. See https://github.com/optuna/optuna/releases/tag/v3.0.0. Use :func:`~optuna.trial.Trial.suggest_float` instead.\n",
      "  'reg_alpha': trial.suggest_loguniform('reg_alpha', 1e-8, 10.0),\n",
      "C:\\Users\\hop09\\AppData\\Local\\Temp\\ipykernel_16060\\2527784243.py:19: FutureWarning: suggest_loguniform has been deprecated in v3.0.0. This feature will be removed in v6.0.0. See https://github.com/optuna/optuna/releases/tag/v3.0.0. Use :func:`~optuna.trial.Trial.suggest_float` instead.\n",
      "  'reg_lambda': trial.suggest_loguniform('reg_lambda', 1e-8, 10.0),\n",
      "C:\\Users\\hop09\\AppData\\Local\\Temp\\ipykernel_16060\\2527784243.py:20: FutureWarning: suggest_uniform has been deprecated in v3.0.0. This feature will be removed in v6.0.0. See https://github.com/optuna/optuna/releases/tag/v3.0.0. Use :func:`~optuna.trial.Trial.suggest_float` instead.\n",
      "  'colsample_bytree': trial.suggest_uniform('colsample_bytree', 0.0, 1.0),\n",
      "C:\\Users\\hop09\\AppData\\Local\\Temp\\ipykernel_16060\\2527784243.py:21: FutureWarning: suggest_uniform has been deprecated in v3.0.0. This feature will be removed in v6.0.0. See https://github.com/optuna/optuna/releases/tag/v3.0.0. Use :func:`~optuna.trial.Trial.suggest_float` instead.\n",
      "  'subsample': trial.suggest_uniform('subsample', 0.0, 1.0),\n",
      "C:\\Users\\hop09\\AppData\\Local\\Temp\\ipykernel_16060\\2527784243.py:22: FutureWarning: suggest_uniform has been deprecated in v3.0.0. This feature will be removed in v6.0.0. See https://github.com/optuna/optuna/releases/tag/v3.0.0. Use :func:`~optuna.trial.Trial.suggest_float` instead.\n",
      "  'learning_rate':trial.suggest_uniform('learning_rate', 0.01, 0.5)\n",
      "\u001b[32m[I 2023-03-28 00:56:53,786]\u001b[0m Trial 9 finished with value: 0.6931471824645996 and parameters: {'n_estimators': 173, 'max_depth': 14, 'max_leaves': 32, 'min_child_weight': 283, 'reg_alpha': 8.106369361161699e-06, 'reg_lambda': 0.0004667836070663388, 'colsample_bytree': 0.7030189588951778, 'subsample': 0.363629602379294, 'learning_rate': 0.4861732205332707}. Best is trial 0 with value: 0.6931471824645996.\u001b[0m\n"
     ]
    },
    {
     "name": "stdout",
     "output_type": "stream",
     "text": [
      "Best Score: 0.6931471824645996\n",
      "Best trial: {'n_estimators': 106, 'max_depth': 15, 'max_leaves': 512, 'min_child_weight': 181, 'reg_alpha': 0.023585940584142682, 'reg_lambda': 1.5320059381854043e-08, 'colsample_bytree': 0.9699098521619943, 'subsample': 0.8324426408004217, 'learning_rate': 0.11404616423235531}\n"
     ]
    }
   ],
   "source": [
    "sampler = TPESampler(seed=42)\n",
    "study = optuna.create_study(\n",
    "    study_name=\"xgb_parameter_opt\",\n",
    "    direction=\"minimize\",\n",
    "    sampler=sampler,\n",
    ")\n",
    "study.optimize(objective, n_trials=10)\n",
    "print(\"Best Score:\", study.best_value)\n",
    "print(\"Best trial:\", study.best_trial.params)"
   ]
  },
  {
   "cell_type": "code",
   "execution_count": 42,
   "metadata": {},
   "outputs": [
    {
     "data": {
      "text/plain": [
       "XGBClassifier(base_score=None, booster=None, callbacks=None,\n",
       "              colsample_bylevel=None, colsample_bynode=None,\n",
       "              colsample_bytree=0.9699098521619943, early_stopping_rounds=None,\n",
       "              enable_categorical=False, eval_metric=None, feature_types=None,\n",
       "              gamma=None, gpu_id=None, grow_policy=None, importance_type=None,\n",
       "              interaction_constraints=None, learning_rate=0.11404616423235531,\n",
       "              max_bin=None, max_cat_threshold=None, max_cat_to_onehot=None,\n",
       "              max_delta_step=None, max_depth=15, max_leaves=512,\n",
       "              min_child_weight=181, missing=nan, monotone_constraints=None,\n",
       "              n_estimators=106, n_jobs=None, num_parallel_tree=None,\n",
       "              predictor=None, random_state=None, ...)"
      ]
     },
     "execution_count": 42,
     "metadata": {},
     "output_type": "execute_result"
    }
   ],
   "source": [
    "\n",
    "model = XGBClassifier(**study.best_trial.params)\n",
    "model.fit(x, y)"
   ]
  },
  {
   "cell_type": "markdown",
   "metadata": {},
   "source": [
    "# 테스트 셋 전처리\n",
    "\n",
    "test = test.drop(columns = ['ID'])\n",
    "test_scaled = scaler.transform(test)"
   ]
  },
  {
   "cell_type": "code",
   "execution_count": 43,
   "metadata": {},
   "outputs": [
    {
     "data": {
      "text/html": [
       "<div>\n",
       "<style scoped>\n",
       "    .dataframe tbody tr th:only-of-type {\n",
       "        vertical-align: middle;\n",
       "    }\n",
       "\n",
       "    .dataframe tbody tr th {\n",
       "        vertical-align: top;\n",
       "    }\n",
       "\n",
       "    .dataframe thead th {\n",
       "        text-align: right;\n",
       "    }\n",
       "</style>\n",
       "<table border=\"1\" class=\"dataframe\">\n",
       "  <thead>\n",
       "    <tr style=\"text-align: right;\">\n",
       "      <th></th>\n",
       "      <th>ID</th>\n",
       "      <th>Pregnancies</th>\n",
       "      <th>Glucose</th>\n",
       "      <th>BloodPressure</th>\n",
       "      <th>SkinThickness</th>\n",
       "      <th>Insulin</th>\n",
       "      <th>BMI</th>\n",
       "      <th>DiabetesPedigreeFunction</th>\n",
       "      <th>Age</th>\n",
       "    </tr>\n",
       "  </thead>\n",
       "  <tbody>\n",
       "    <tr>\n",
       "      <th>0</th>\n",
       "      <td>TEST_000</td>\n",
       "      <td>5</td>\n",
       "      <td>112</td>\n",
       "      <td>66</td>\n",
       "      <td>0</td>\n",
       "      <td>0</td>\n",
       "      <td>37.8</td>\n",
       "      <td>0.261</td>\n",
       "      <td>41</td>\n",
       "    </tr>\n",
       "    <tr>\n",
       "      <th>1</th>\n",
       "      <td>TEST_001</td>\n",
       "      <td>3</td>\n",
       "      <td>107</td>\n",
       "      <td>62</td>\n",
       "      <td>13</td>\n",
       "      <td>48</td>\n",
       "      <td>22.9</td>\n",
       "      <td>0.678</td>\n",
       "      <td>23</td>\n",
       "    </tr>\n",
       "    <tr>\n",
       "      <th>2</th>\n",
       "      <td>TEST_002</td>\n",
       "      <td>3</td>\n",
       "      <td>113</td>\n",
       "      <td>44</td>\n",
       "      <td>13</td>\n",
       "      <td>0</td>\n",
       "      <td>22.4</td>\n",
       "      <td>0.140</td>\n",
       "      <td>22</td>\n",
       "    </tr>\n",
       "    <tr>\n",
       "      <th>3</th>\n",
       "      <td>TEST_003</td>\n",
       "      <td>6</td>\n",
       "      <td>190</td>\n",
       "      <td>92</td>\n",
       "      <td>0</td>\n",
       "      <td>0</td>\n",
       "      <td>35.5</td>\n",
       "      <td>0.278</td>\n",
       "      <td>66</td>\n",
       "    </tr>\n",
       "    <tr>\n",
       "      <th>4</th>\n",
       "      <td>TEST_004</td>\n",
       "      <td>1</td>\n",
       "      <td>107</td>\n",
       "      <td>72</td>\n",
       "      <td>30</td>\n",
       "      <td>82</td>\n",
       "      <td>30.8</td>\n",
       "      <td>0.821</td>\n",
       "      <td>24</td>\n",
       "    </tr>\n",
       "  </tbody>\n",
       "</table>\n",
       "</div>"
      ],
      "text/plain": [
       "         ID  Pregnancies  Glucose  BloodPressure  SkinThickness  Insulin  \\\n",
       "0  TEST_000            5      112             66              0        0   \n",
       "1  TEST_001            3      107             62             13       48   \n",
       "2  TEST_002            3      113             44             13        0   \n",
       "3  TEST_003            6      190             92              0        0   \n",
       "4  TEST_004            1      107             72             30       82   \n",
       "\n",
       "    BMI  DiabetesPedigreeFunction  Age  \n",
       "0  37.8                     0.261   41  \n",
       "1  22.9                     0.678   23  \n",
       "2  22.4                     0.140   22  \n",
       "3  35.5                     0.278   66  \n",
       "4  30.8                     0.821   24  "
      ]
     },
     "execution_count": 43,
     "metadata": {},
     "output_type": "execute_result"
    }
   ],
   "source": [
    "test = pd.read_csv('C:/Users/hop09/Downloads/open/test.csv')\n",
    "test.head()"
   ]
  },
  {
   "cell_type": "code",
   "execution_count": 44,
   "metadata": {},
   "outputs": [],
   "source": [
    "# 예측\n",
    "test = pd.read_csv('C:/Users/hop09/Downloads/open/test.csv')\n",
    "test.drop(columns = [\"ID\", \"Pregnancies\", \"SkinThickness\"], inplace = True)\n"
   ]
  },
  {
   "cell_type": "code",
   "execution_count": 45,
   "metadata": {},
   "outputs": [],
   "source": [
    "test[\"Insulin\"].replace(0,107, inplace = True)"
   ]
  },
  {
   "cell_type": "code",
   "execution_count": 46,
   "metadata": {},
   "outputs": [
    {
     "data": {
      "text/plain": [
       "0      37.800000\n",
       "1      22.900000\n",
       "2      22.400000\n",
       "3      35.500000\n",
       "4      30.800000\n",
       "         ...    \n",
       "111    27.500000\n",
       "112    22.300000\n",
       "113    36.400000\n",
       "114    31.600000\n",
       "115    32.246552\n",
       "Name: BMI, Length: 116, dtype: float64"
      ]
     },
     "execution_count": 46,
     "metadata": {},
     "output_type": "execute_result"
    }
   ],
   "source": [
    "mean_b = test[\"BloodPressure\"].mean()\n",
    "test[\"BloodPressure\"].replace(0, mean_b)\n",
    "\n",
    "mean_bmi = test[\"BMI\"].mean()\n",
    "test[\"BMI\"].replace(0, mean_bmi)"
   ]
  },
  {
   "cell_type": "code",
   "execution_count": 47,
   "metadata": {},
   "outputs": [
    {
     "data": {
      "text/plain": [
       "pandas.core.frame.DataFrame"
      ]
     },
     "execution_count": 47,
     "metadata": {},
     "output_type": "execute_result"
    }
   ],
   "source": [
    "type(test)"
   ]
  },
  {
   "cell_type": "code",
   "execution_count": 48,
   "metadata": {},
   "outputs": [],
   "source": [
    "predict = model.predict(test)"
   ]
  },
  {
   "cell_type": "code",
   "execution_count": 49,
   "metadata": {},
   "outputs": [
    {
     "data": {
      "text/plain": [
       "array([0, 0, 0, 0, 0, 0, 0, 0, 0, 0, 0, 0, 0, 0, 0, 0, 0, 0, 0, 0, 0, 0,\n",
       "       0, 0, 0, 0, 0, 0, 0, 0, 0, 0, 0, 0, 0, 0, 0, 0, 0, 0, 0, 0, 0, 0,\n",
       "       0, 0, 0, 0, 0, 0, 0, 0, 0, 0, 0, 0, 0, 0, 0, 0, 0, 0, 0, 0, 0, 0,\n",
       "       0, 0, 0, 0, 0, 0, 0, 0, 0, 0, 0, 0, 0, 0, 0, 0, 0, 0, 0, 0, 0, 0,\n",
       "       0, 0, 0, 0, 0, 0, 0, 0, 0, 0, 0, 0, 0, 0, 0, 0, 0, 0, 0, 0, 0, 0,\n",
       "       0, 0, 0, 0, 0, 0])"
      ]
     },
     "execution_count": 49,
     "metadata": {},
     "output_type": "execute_result"
    }
   ],
   "source": [
    "predict"
   ]
  },
  {
   "cell_type": "code",
   "execution_count": null,
   "metadata": {},
   "outputs": [
    {
     "name": "stderr",
     "output_type": "stream",
     "text": [
      "c:\\Users\\hop09\\Desktop\\anaconda\\lib\\site-packages\\sklearn\\base.py:443: UserWarning: X has feature names, but StandardScaler was fitted without feature names\n",
      "  warnings.warn(\n"
     ]
    }
   ],
   "source": [
    "# test_scaler = scaler.transform(test)\n",
    "\n",
    "# test_set = torch.from_numpy(test_scaler).float()\n"
   ]
  },
  {
   "cell_type": "code",
   "execution_count": null,
   "metadata": {},
   "outputs": [
    {
     "data": {
      "text/plain": [
       "torch.Size([116, 7])"
      ]
     },
     "metadata": {},
     "output_type": "display_data"
    }
   ],
   "source": [
    "# test_set.shape"
   ]
  },
  {
   "cell_type": "code",
   "execution_count": null,
   "metadata": {},
   "outputs": [
    {
     "data": {
      "text/plain": [
       "2.0"
      ]
     },
     "metadata": {},
     "output_type": "display_data"
    }
   ],
   "source": [
    "# round(1.735, 0) "
   ]
  },
  {
   "cell_type": "code",
   "execution_count": null,
   "metadata": {},
   "outputs": [],
   "source": [
    "# test_loss = 0\n",
    "# predict_ = []\n",
    "\n",
    "# with torch.no_grad() :\n",
    "# \t\tx_ = test_set\n",
    "\n",
    "# \t\tfor x_i in x_ :\n",
    "# \t\t\t\ty_hat_i = model(x_i)\n",
    "# \t\t\t\tpredict_ += [y_hat_i.round()]\n"
   ]
  },
  {
   "cell_type": "code",
   "execution_count": null,
   "metadata": {},
   "outputs": [],
   "source": [
    "# predict = [int(predict.item()) for predict in predict_]"
   ]
  },
  {
   "cell_type": "markdown",
   "metadata": {},
   "source": [
    "### CSV로 저장"
   ]
  },
  {
   "cell_type": "code",
   "execution_count": 64,
   "metadata": {},
   "outputs": [],
   "source": [
    "submit = pd.read_csv('C:/Users/hop09/Downloads/open/sample_submission.csv')"
   ]
  },
  {
   "cell_type": "code",
   "execution_count": 65,
   "metadata": {},
   "outputs": [],
   "source": [
    "submit['Outcome'] = predict"
   ]
  },
  {
   "cell_type": "code",
   "execution_count": 66,
   "metadata": {},
   "outputs": [],
   "source": [
    "submit.to_csv('C:/Users/hop09/Downloads/open/submit.csv', index = False)"
   ]
  },
  {
   "cell_type": "code",
   "execution_count": null,
   "metadata": {},
   "outputs": [],
   "source": []
  }
 ],
 "metadata": {
  "kernelspec": {
   "display_name": "base",
   "language": "python",
   "name": "python3"
  },
  "language_info": {
   "codemirror_mode": {
    "name": "ipython",
    "version": 3
   },
   "file_extension": ".py",
   "mimetype": "text/x-python",
   "name": "python",
   "nbconvert_exporter": "python",
   "pygments_lexer": "ipython3",
   "version": "3.9.13"
  },
  "orig_nbformat": 4
 },
 "nbformat": 4,
 "nbformat_minor": 2
}
