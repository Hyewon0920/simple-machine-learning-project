{
 "cells": [
  {
   "cell_type": "code",
   "execution_count": 1,
   "metadata": {},
   "outputs": [],
   "source": [
    "# 라이브러리 호출\n",
    "import torch\n",
    "import torch.nn as nn\n",
    "import torchvision.transforms as transforms\n",
    "import torchvision.datasets as datasets \n",
    "from torch.nn import parameter #파라미터 목록을 가지고 있는 패키지\n",
    "from torch import Tensor\n",
    "import torch.nn.functional as F \n",
    "from torch.utils.data import DataLoader \n",
    "import math # 수학과 관련되어 다양한 함수들과 상수들이 정의되어 있는 라이브러리 \n",
    "\n",
    "device = torch.device('cuda:0' if torch.cuda.is_available() else 'cpu')\n",
    "cuda = True if torch.cuda.is_available() else False\n",
    "\n",
    "Tensor = torch.cuda.FloatTensor if cuda else torch.FloatTensor\n",
    "torch.manual_seed(125)\n",
    "if torch.cuda.is_available() :\n",
    "  torch.cuda.manual_seed_all(125)"
   ]
  },
  {
   "cell_type": "code",
   "execution_count": 2,
   "metadata": {},
   "outputs": [],
   "source": [
    "# 데이터 전처리\n",
    "import torchvision.transforms as transforms\n",
    "\n",
    "mnist_transform = transforms.Compose([ \n",
    "                                      transforms.ToTensor(),\n",
    "                                      transforms.Normalize((0.5), (1.0, ))])"
   ]
  },
  {
   "cell_type": "code",
   "execution_count": 3,
   "metadata": {},
   "outputs": [
    {
     "name": "stdout",
     "output_type": "stream",
     "text": [
      "Downloading http://yann.lecun.com/exdb/mnist/train-images-idx3-ubyte.gz\n",
      "Downloading http://yann.lecun.com/exdb/mnist/train-images-idx3-ubyte.gz to ../simple-machine-learning-project/Deeplearning-Pytorch-Textbook-main/chap07/MNIST_DATASET\\MNIST\\raw\\train-images-idx3-ubyte.gz\n"
     ]
    },
    {
     "data": {
      "application/vnd.jupyter.widget-view+json": {
       "model_id": "acc6e85354be45a2a35dc76d06916dab",
       "version_major": 2,
       "version_minor": 0
      },
      "text/plain": [
       "  0%|          | 0/9912422 [00:00<?, ?it/s]"
      ]
     },
     "metadata": {},
     "output_type": "display_data"
    },
    {
     "name": "stdout",
     "output_type": "stream",
     "text": [
      "Extracting ../simple-machine-learning-project/Deeplearning-Pytorch-Textbook-main/chap07/MNIST_DATASET\\MNIST\\raw\\train-images-idx3-ubyte.gz to ../simple-machine-learning-project/Deeplearning-Pytorch-Textbook-main/chap07/MNIST_DATASET\\MNIST\\raw\n",
      "\n",
      "Downloading http://yann.lecun.com/exdb/mnist/train-labels-idx1-ubyte.gz\n",
      "Downloading http://yann.lecun.com/exdb/mnist/train-labels-idx1-ubyte.gz to ../simple-machine-learning-project/Deeplearning-Pytorch-Textbook-main/chap07/MNIST_DATASET\\MNIST\\raw\\train-labels-idx1-ubyte.gz\n"
     ]
    },
    {
     "data": {
      "application/vnd.jupyter.widget-view+json": {
       "model_id": "a869e9dbcac5429c84bc95c899132642",
       "version_major": 2,
       "version_minor": 0
      },
      "text/plain": [
       "  0%|          | 0/28881 [00:00<?, ?it/s]"
      ]
     },
     "metadata": {},
     "output_type": "display_data"
    },
    {
     "name": "stdout",
     "output_type": "stream",
     "text": [
      "Extracting ../simple-machine-learning-project/Deeplearning-Pytorch-Textbook-main/chap07/MNIST_DATASET\\MNIST\\raw\\train-labels-idx1-ubyte.gz to ../simple-machine-learning-project/Deeplearning-Pytorch-Textbook-main/chap07/MNIST_DATASET\\MNIST\\raw\n",
      "\n",
      "Downloading http://yann.lecun.com/exdb/mnist/t10k-images-idx3-ubyte.gz\n",
      "Downloading http://yann.lecun.com/exdb/mnist/t10k-images-idx3-ubyte.gz to ../simple-machine-learning-project/Deeplearning-Pytorch-Textbook-main/chap07/MNIST_DATASET\\MNIST\\raw\\t10k-images-idx3-ubyte.gz\n"
     ]
    },
    {
     "data": {
      "application/vnd.jupyter.widget-view+json": {
       "model_id": "8f0243f2017c446cba38a5f4278aebfb",
       "version_major": 2,
       "version_minor": 0
      },
      "text/plain": [
       "  0%|          | 0/1648877 [00:00<?, ?it/s]"
      ]
     },
     "metadata": {},
     "output_type": "display_data"
    },
    {
     "name": "stdout",
     "output_type": "stream",
     "text": [
      "Extracting ../simple-machine-learning-project/Deeplearning-Pytorch-Textbook-main/chap07/MNIST_DATASET\\MNIST\\raw\\t10k-images-idx3-ubyte.gz to ../simple-machine-learning-project/Deeplearning-Pytorch-Textbook-main/chap07/MNIST_DATASET\\MNIST\\raw\n",
      "\n",
      "Downloading http://yann.lecun.com/exdb/mnist/t10k-labels-idx1-ubyte.gz\n",
      "Downloading http://yann.lecun.com/exdb/mnist/t10k-labels-idx1-ubyte.gz to ../simple-machine-learning-project/Deeplearning-Pytorch-Textbook-main/chap07/MNIST_DATASET\\MNIST\\raw\\t10k-labels-idx1-ubyte.gz\n"
     ]
    },
    {
     "data": {
      "application/vnd.jupyter.widget-view+json": {
       "model_id": "a0490959eaa6465498cab327536fa40d",
       "version_major": 2,
       "version_minor": 0
      },
      "text/plain": [
       "  0%|          | 0/4542 [00:00<?, ?it/s]"
      ]
     },
     "metadata": {},
     "output_type": "display_data"
    },
    {
     "name": "stdout",
     "output_type": "stream",
     "text": [
      "Extracting ../simple-machine-learning-project/Deeplearning-Pytorch-Textbook-main/chap07/MNIST_DATASET\\MNIST\\raw\\t10k-labels-idx1-ubyte.gz to ../simple-machine-learning-project/Deeplearning-Pytorch-Textbook-main/chap07/MNIST_DATASET\\MNIST\\raw\n",
      "\n"
     ]
    }
   ],
   "source": [
    "# 데이터셋 내려받기\n",
    "from torchvision.datasets import MNIST\n",
    "\n",
    "download_root  = \"../simple-machine-learning-project/Deeplearning-Pytorch-Textbook-main/chap07/MNIST_DATASET\"\n",
    "\n",
    "train_dataset = MNIST(download_root, transform = mnist_transform, train = True, download= True)\n",
    "\"\"\"MNIST 내려받을 위치, 앞에서 설정한 데이터 전처리 적용, train = True면 훈련용 데이터 셋을 False면 테스트용 데이터셋, download True면, MNIST파일이 없으면 내려받고 이미 존재하면 내려받지 않음\n",
    "\"\"\"\n",
    "valid_dataset = MNIST(download_root, transform = mnist_transform, train = False, download= True)\n",
    "\n",
    "test_dataset = MNIST(download_root, transform = mnist_transform, train = False, download= True)\n"
   ]
  },
  {
   "cell_type": "code",
   "execution_count": 12,
   "metadata": {},
   "outputs": [],
   "source": [
    "# 데이터셋 메모리로 가져오기\n",
    "batch_size = 64\n",
    "train_loader = DataLoader(dataset = train_dataset, \n",
    "                          batch_size = batch_size, \n",
    "                          shuffle = True)\n",
    "\n",
    "valid_loader = DataLoader(dataset = valid_dataset, \n",
    "                          batch_size = batch_size, \n",
    "                          shuffle = True)\n",
    "test_loader = DataLoader(dataset = test_dataset, \n",
    "                          batch_size = batch_size, \n",
    "                          shuffle = True)"
   ]
  },
  {
   "cell_type": "code",
   "execution_count": 25,
   "metadata": {},
   "outputs": [
    {
     "name": "stdout",
     "output_type": "stream",
     "text": [
      "60000\n"
     ]
    }
   ],
   "source": [
    "print(len(train_dataset))"
   ]
  },
  {
   "cell_type": "code",
   "execution_count": 27,
   "metadata": {},
   "outputs": [],
   "source": [
    "batch_size = 100\n",
    "n_iters = 6000\n",
    "num_epochs = n_iters/(len(train_dataset)/ batch_size) \n",
    "num_epochs = int(num_epochs)"
   ]
  },
  {
   "cell_type": "code",
   "execution_count": 28,
   "metadata": {},
   "outputs": [
    {
     "name": "stdout",
     "output_type": "stream",
     "text": [
      "10\n"
     ]
    }
   ],
   "source": [
    "print(num_epochs)"
   ]
  },
  {
   "cell_type": "code",
   "execution_count": 29,
   "metadata": {},
   "outputs": [],
   "source": [
    "# # 셀 클래스 구축\n",
    "# class LSTMCell(nn.Module) : \n",
    "#   def __init__(self, input_size, hidden_size, bias = True ) :\n",
    "#     super(LSTMCell, self).__init__()\n",
    "#     self.input_size = input_size\n",
    "#     self.hidden_size = hidden_size\n",
    "#     self.bias = bias\n",
    "#     self.x2h = nn.Linear(input_size, 4*hidden_size, bias = bias) \n",
    "#     \"\"\" 모든 게이트는 이 코드로 구할 수 있음 \"\"\"\n",
    "#     self.h2h = nn.Linear(hidden_size, 4*hidden_size, bias = bias)\n",
    "#     self.reset_parameters()\n",
    "    \n",
    "#     def reset_parameters(self) : \n",
    "#       \"\"\"모델 파라미터 초기화 \"\"\"\n",
    "#       std = 1.0 / math.sqrt(self.hidden_size)\n",
    "#       for w in self.parameters() :\n",
    "#         w.data.uniform_(-std, std)\n",
    "        \n",
    "#     def forward(self, x, hidden) :\n",
    "#       hx, cx = hidden\n",
    "#       x = x.view(-1, x.size(1))\n",
    "      \n",
    "#       gates = self.x2h(x) + self.h2h(hx)\n",
    "#       gates = gates.squeeze() \n",
    "#       \"\"\" \n",
    "#       차원 줄일 때 2차원 -> 1차원으로 줄임\n",
    "#       \"\"\"\n",
    "#       ingate, forgetgate, cellgate, outgate = gates.chunk(4,1)\n",
    "      \n",
    "#       ingate = F.sigmoid(ingate)\n",
    "#       forgetgate = F.sigmoid(forgetgate)\n",
    "#       cellgate = F.tanh(cellgate)\n",
    "#       outgate = F.sigmoid(outgate)\n",
    "      \n",
    "#       cy = torch.mul(cx, forgetgate) + torch.mul(ingate, cellgate)\n",
    "#       hy = torch.mul(outgate, F.tanh(cy))\n",
    "#       \"\"\" mul은 (적용 텐서, 얼마 곱할건지)로 구성되며, 텐서의 곱을 할 때 사용함\n",
    "#       \"\"\"\n",
    "#       return (hy, cy) "
   ]
  },
  {
   "cell_type": "code",
   "execution_count": 49,
   "metadata": {},
   "outputs": [],
   "source": [
    "# 셀 클래스 구축\n",
    "class LSTMCell(nn.Module): \n",
    "    def __init__(self, input_size, hidden_size, bias=True):\n",
    "        super(LSTMCell, self).__init__()\n",
    "        self.input_size = input_size\n",
    "        self.hidden_size = hidden_size\n",
    "        self.bias = bias\n",
    "        self.x2h = nn.Linear(input_size, 4 * hidden_size, bias=bias) \n",
    "        \"\"\" 모든 게이트는 이 코드로 구할 수 있음 \"\"\"\n",
    "        self.h2h = nn.Linear(hidden_size, 4 * hidden_size, bias=bias) \n",
    "        self.reset_parameters()\n",
    "\n",
    "    def reset_parameters(self):  \n",
    "        \"\"\"모델 파라미터 초기화 \"\"\"\n",
    "        std = 1.0 / math.sqrt(self.hidden_size)\n",
    "        for w in self.parameters():\n",
    "            w.data.uniform_(-std, std) \n",
    "\n",
    "    def forward(self, x, hidden):\n",
    "        hx, cx = hidden\n",
    "        x = x.view(-1, x.size(1))\n",
    "\n",
    "        gates = self.x2h(x) + self.h2h(hx) \n",
    "        gates = gates.squeeze() \n",
    "        \"\"\" \n",
    "#       차원 줄일 때 2차원 -> 1차원으로 줄임\n",
    "#       \"\"\"\n",
    "        ingate, forgetgate, cellgate, outgate = gates.chunk(4, 1) \n",
    "\n",
    "        ingate = F.sigmoid(ingate) \n",
    "        forgetgate = F.sigmoid(forgetgate) \n",
    "        cellgate = F.tanh(cellgate) \n",
    "        outgate = F.sigmoid(outgate) \n",
    "\n",
    "        cy = torch.mul(cx, forgetgate) + torch.mul(ingate, cellgate) \n",
    "        hy = torch.mul(outgate, F.tanh(cy)) \n",
    "        return(hy, cy)\n",
    "    \"\"\" mul은 (적용 텐서, 얼마 곱할건지)로 구성되며, 텐서의 곱을 할 때 사용함\n",
    "    \"\"\""
   ]
  },
  {
   "attachments": {},
   "cell_type": "markdown",
   "metadata": {},
   "source": [
    "중요한 것은 \n",
    "- self.x2h = nn.Linear(input_size, 4*hidden_size, bias = bias)\n",
    "-  gates = self.x2h(x) + self.h2h(hx)\n",
    "\n",
    "  - x2h input_size : 입력층으로 입력되는 훈련 데이터셋의 특성수(칼럼개수)\n",
    "  - x2h 4*hidden_size : 입력층과 은닉층 사이의 가중치\n",
    "  - bias : 입력층과 은닉층 사이의 편향\n",
    "  - h2h input_size : 은닉층의 뉴런, 유닛개수(은닉층의 특성수)\n",
    "  - h2h 4*hidden_size : 은닉층과 은닉층 사이의 가중치\n",
    "  - bias : 은닉층과 은닉층 사이의 바이어스\n",
    "\n",
    "#### 이렇게 계산된 게이트는 4개의 게이트로 chunk()라는 함수를 이용해 분할 되서 각각 저장됨. 일반적으로는 bias에도 4를 곱해주지만 여기선 은닉층의 뉴런, 유닛개수만 4를 곱해줌\n",
    "\n",
    "- chunk : 텐서 쪼갤 때 사용하는 함수. \n",
    "- 4 : 몇개로 쪼갤지\n",
    "- 1 : 어떤 차원을 기준으로 쪼갤지. dim = 1이면 열단위로 텐서를 분할하겠다\n",
    "- uniform() : 난수 생성. -> randint(), random()등등을 사용할 수 있음 \n",
    "\n",
    "ri = randint(1, 10) ------ 1부터 10 사이의 임의의 정수\n",
    "print(ri)\n",
    "\n",
    "rd = random() ------ 0부터 1 사이의 임의의 실수(float)\n",
    "print(rd)\n",
    "\n",
    "ui = uniform(1, 10) ------ 1부터 10 사이의 임의의 실수(float)\n",
    "print(ui)\n",
    "\n",
    "rr = randrange(1, 10, 2) ------ 1부터 10 사이를 2씩 건너뛴 임의의 정수(예 1, 3, 5, 7, 9)\n",
    "print(rr)"
   ]
  },
  {
   "cell_type": "code",
   "execution_count": 54,
   "metadata": {},
   "outputs": [],
   "source": [
    "class LSTMModel(nn.Module):\n",
    "    def __init__(self, input_dim, hidden_dim, layer_dim, output_dim, bias=True):\n",
    "        super(LSTMModel, self).__init__()\n",
    "        self.hidden_dim = hidden_dim #은닉층의 뉴런/유닛 개수\n",
    "\n",
    "        self.layer_dim = layer_dim\n",
    "        self.lstm = LSTMCell(input_dim, hidden_dim, layer_dim) \n",
    "        self.fc = nn.Linear(hidden_dim, output_dim)\n",
    "\n",
    "    def forward(self, x):\n",
    "        if torch.cuda.is_available(): # GPU 사용 유무 확인\n",
    "            h0 = torch.tensor(torch.zeros(self.layer_dim, x.size(0), self.hidden_dim).cuda()) #(은닉층의 계층 개수, 배치 크기, 은닉층의 뉴런 개수) 형태를 갖는 은닉 상태를 0으로 초기화\n",
    "        else:\n",
    "            h0 = torch.tensor(torch.zeros(self.layer_dim, x.size(0), self.hidden_dim))\n",
    "\n",
    "        if torch.cuda.is_available(): # GPU 사용 유무 확인\n",
    "            c0 = torch.tensor(torch.zeros(self.layer_dim, x.size(0), self.hidden_dim).cuda()) # (은닉층의 계층 개수, 배치 크기, 은닉층의 뉴런 개수) 형태를 갖는 셀 상태를 0으로 초기화\n",
    "        else:\n",
    "            c0 = torch.tensor(torch.zeros(self.layer_dim, x.size(0), self.hidden_dim))\n",
    "\n",
    "        outs = []\n",
    "        cn = c0[0,:,:] # (은닉층의 계층 개수, 배치 크기, 은닉층의 뉴런 개수) 크기를 갖는 셀 상태에 대한 텐서\n",
    "        hn = h0[0,:,:] # (은닉층의 계층 개수, 배치 크기, 은닉층의 뉴런 개수) 크기를 갖는 은닉 상태에 대한 텐서\n",
    "\n",
    "        for seq in range(x.size(1)): # LSTM 셀 계층을 반복하여 쌓아 올립니다.\n",
    "            hn, cn = self.lstm(x[:,seq,:], (hn,cn)) # 은닉 상태(hn)와 셀 상태를 LSTMCell에 적용한 결과를 또다시 hn, cn에 저장\n",
    "            outs.append(hn)\n",
    "\n",
    "        out = outs[-1].squeeze()\n",
    "        out = self.fc(out)\n",
    "        return out"
   ]
  },
  {
   "cell_type": "code",
   "execution_count": 55,
   "metadata": {},
   "outputs": [],
   "source": [
    "# 옵티마이저, 손실함수 지정\n",
    "input_dim = 28\n",
    "hidden_dim = 128\n",
    "layer_dim = 1\n",
    "output_dim = 10\n",
    "\n",
    "model = LSTMModel(input_dim, hidden_dim, layer_dim, output_dim)\n",
    "if torch.cuda.is_available(): \n",
    "  model.cuda()\n",
    "  \n",
    "criterion = nn.CrossEntropyLoss() # 중요\n",
    "learning_rate = 0.1\n",
    "optimizer = torch.optim.SGD(model.parameters(),  lr=learning_rate) # 중요"
   ]
  },
  {
   "cell_type": "code",
   "execution_count": 56,
   "metadata": {},
   "outputs": [
    {
     "name": "stderr",
     "output_type": "stream",
     "text": [
      "C:\\Users\\hop09\\AppData\\Local\\Temp\\ipykernel_2792\\1942578715.py:10: UserWarning: To copy construct from a tensor, it is recommended to use sourceTensor.clone().detach() or sourceTensor.clone().detach().requires_grad_(True), rather than torch.tensor(sourceTensor).\n",
      "  images = torch.tensor(images.view(-1, seq_dim, input_dim))\n",
      "C:\\Users\\hop09\\AppData\\Local\\Temp\\ipykernel_2792\\1942578715.py:11: UserWarning: To copy construct from a tensor, it is recommended to use sourceTensor.clone().detach() or sourceTensor.clone().detach().requires_grad_(True), rather than torch.tensor(sourceTensor).\n",
      "  labels = torch.tensor(labels)\n",
      "C:\\Users\\hop09\\AppData\\Local\\Temp\\ipykernel_2792\\3255531632.py:14: UserWarning: To copy construct from a tensor, it is recommended to use sourceTensor.clone().detach() or sourceTensor.clone().detach().requires_grad_(True), rather than torch.tensor(sourceTensor).\n",
      "  h0 = torch.tensor(torch.zeros(self.layer_dim, x.size(0), self.hidden_dim))\n",
      "C:\\Users\\hop09\\AppData\\Local\\Temp\\ipykernel_2792\\3255531632.py:19: UserWarning: To copy construct from a tensor, it is recommended to use sourceTensor.clone().detach() or sourceTensor.clone().detach().requires_grad_(True), rather than torch.tensor(sourceTensor).\n",
      "  c0 = torch.tensor(torch.zeros(self.layer_dim, x.size(0), self.hidden_dim))\n",
      "c:\\Users\\hop09\\Desktop\\anaconda\\lib\\site-packages\\torch\\nn\\functional.py:1967: UserWarning: nn.functional.sigmoid is deprecated. Use torch.sigmoid instead.\n",
      "  warnings.warn(\"nn.functional.sigmoid is deprecated. Use torch.sigmoid instead.\")\n",
      "c:\\Users\\hop09\\Desktop\\anaconda\\lib\\site-packages\\torch\\nn\\functional.py:1956: UserWarning: nn.functional.tanh is deprecated. Use torch.tanh instead.\n",
      "  warnings.warn(\"nn.functional.tanh is deprecated. Use torch.tanh instead.\")\n",
      "C:\\Users\\hop09\\AppData\\Local\\Temp\\ipykernel_2792\\1942578715.py:33: UserWarning: To copy construct from a tensor, it is recommended to use sourceTensor.clone().detach() or sourceTensor.clone().detach().requires_grad_(True), rather than torch.tensor(sourceTensor).\n",
      "  images = torch.tensor(images.view(-1, seq_dim, input_dim))\n"
     ]
    },
    {
     "name": "stdout",
     "output_type": "stream",
     "text": [
      "Iteration: 500. Loss: 2.2557575702667236. Accuracy: 22.639999389648438\n",
      "Iteration: 1000. Loss: 0.7829233407974243. Accuracy: 70.83999633789062\n",
      "Iteration: 1500. Loss: 0.4939519464969635. Accuracy: 87.95999908447266\n",
      "Iteration: 2000. Loss: 0.2981965243816376. Accuracy: 93.0199966430664\n",
      "Iteration: 2500. Loss: 0.23295961320400238. Accuracy: 94.08000183105469\n",
      "Iteration: 3000. Loss: 0.3366606533527374. Accuracy: 96.02999877929688\n",
      "Iteration: 3500. Loss: 0.1180586963891983. Accuracy: 96.55999755859375\n",
      "Iteration: 4000. Loss: 0.05988272652029991. Accuracy: 96.37999725341797\n",
      "Iteration: 4500. Loss: 0.08962131291627884. Accuracy: 96.7699966430664\n",
      "Iteration: 5000. Loss: 0.06190209090709686. Accuracy: 96.93000030517578\n",
      "Iteration: 5500. Loss: 0.009094631299376488. Accuracy: 97.62999725341797\n",
      "Iteration: 6000. Loss: 0.04170197993516922. Accuracy: 97.37999725341797\n",
      "Iteration: 6500. Loss: 0.034373193979263306. Accuracy: 97.66000366210938\n",
      "Iteration: 7000. Loss: 0.2412298321723938. Accuracy: 97.04000091552734\n",
      "Iteration: 7500. Loss: 0.08143483102321625. Accuracy: 97.81999969482422\n",
      "Iteration: 8000. Loss: 0.04485837370157242. Accuracy: 98.19000244140625\n",
      "Iteration: 8500. Loss: 0.07595005631446838. Accuracy: 97.9000015258789\n",
      "Iteration: 9000. Loss: 0.0837143063545227. Accuracy: 97.79000091552734\n"
     ]
    }
   ],
   "source": [
    "seq_dim = 28\n",
    "loss_list = []\n",
    "iter = 0\n",
    "for epoch in range(num_epochs):\n",
    "    for i, (images, labels) in enumerate(train_loader): # 훈련 데이터셋을 이용한 모델 학습\n",
    "        if torch.cuda.is_available(): #GPU 사용 유무 확인\n",
    "            images = torch.tensor(images.view(-1, seq_dim, input_dim).cuda()) \n",
    "            labels = torch.tensor(labels.cuda())\n",
    "        else: # GPU를 사용하지 않기 때문에 else 구문이 실행\n",
    "            images = torch.tensor(images.view(-1, seq_dim, input_dim))\n",
    "            labels = torch.tensor(labels)\n",
    "\n",
    "        optimizer.zero_grad()\n",
    "        outputs = model(images)\n",
    "        loss = criterion(outputs, labels) # 손실 함수를 이용하여 오차 계산\n",
    "\n",
    "        if torch.cuda.is_available():\n",
    "            loss.cuda()\n",
    "\n",
    "        loss.backward()\n",
    "        optimizer.step() #파라미터 업데이트\n",
    "        loss_list.append(loss.item())\n",
    "        iter += 1\n",
    "\n",
    "        if iter % 500 == 0: # 정확도(accuracy) 계산\n",
    "            correct = 0\n",
    "            total = 0\n",
    "            for images, labels in valid_loader: # 검증 데이터셋을 이용한 모델 성능 검증\n",
    "\n",
    "                if torch.cuda.is_available():\n",
    "                    images = torch.tensor(images.view(-1, seq_dim, input_dim).cuda())\n",
    "                else:\n",
    "                    images = torch.tensor(images.view(-1, seq_dim, input_dim))\n",
    "\n",
    "                outputs = model(images)\n",
    "                _, predicted = torch.max(outputs.data, 1) #모델을 통과한 결과의 최댓값으로부터 예측 결과 가져오기\n",
    "\n",
    "                total += labels.size(0) # 총 레이블 수\n",
    "                if torch.cuda.is_available():\n",
    "                    correct += (predicted.cpu() == labels.cpu()).sum()\n",
    "                else:\n",
    "                    correct += (predicted == labels).sum()\n",
    "\n",
    "            accuracy = 100 * correct / total\n",
    "            print('Iteration: {}. Loss: {}. Accuracy: {}'.format(iter, loss.item(), accuracy))"
   ]
  },
  {
   "cell_type": "code",
   "execution_count": 57,
   "metadata": {},
   "outputs": [],
   "source": [
    "# 모델 예측 성능 확인\n",
    "def evaluate(mode, val_iter) :\n",
    "  corrects, total, total_loss = 0,0,0\n",
    "  model.eval()\n",
    "  for images, labels in val_iter :\n",
    "    if torch.cuda.is_available() :\n",
    "      images = torch.tensor(images.view(-1, seq_dim, input_dim).cuda())\n",
    "      \n",
    "    else :\n",
    "      images = torch.tensor(images.view(-1, seq_dim, input_dim)).to(device)\n",
    "      \n",
    "    logit = model(images).to(device)\n",
    "    loss = F.cross_entropy(logit, labels, reduction = \"sum\")\n",
    "    _, predicted = torch.max(logit.data, 1)\n",
    "    \n",
    "    total += labels.size(0)\n",
    "    total_loss += loss.item()\n",
    "    corrects += (predicted == labels).sum()\n",
    "    \n",
    "  avg_loss = total_loss/ len(val_iter.dataset)\n",
    "  avg_accuracy = correct / total\n",
    "  return avg_loss, avg_accuracy"
   ]
  },
  {
   "cell_type": "code",
   "execution_count": null,
   "metadata": {},
   "outputs": [],
   "source": []
  }
 ],
 "metadata": {
  "kernelspec": {
   "display_name": "base",
   "language": "python",
   "name": "python3"
  },
  "language_info": {
   "codemirror_mode": {
    "name": "ipython",
    "version": 3
   },
   "file_extension": ".py",
   "mimetype": "text/x-python",
   "name": "python",
   "nbconvert_exporter": "python",
   "pygments_lexer": "ipython3",
   "version": "3.9.13"
  },
  "orig_nbformat": 4
 },
 "nbformat": 4,
 "nbformat_minor": 2
}
